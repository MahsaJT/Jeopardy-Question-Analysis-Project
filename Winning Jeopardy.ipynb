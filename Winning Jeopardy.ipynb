{
 "cells": [
  {
   "cell_type": "code",
   "execution_count": 43,
   "id": "8e272e19-cd54-45ec-b4bd-90308353c5bf",
   "metadata": {},
   "outputs": [],
   "source": [
    "import pandas as pd\n",
    "import re\n",
    "from random import choice\n",
    "from scipy.stats import chisquare\n",
    "import numpy as np"
   ]
  },
  {
   "cell_type": "code",
   "execution_count": 2,
   "id": "c626bfa3-0b36-464b-9d20-325176253585",
   "metadata": {},
   "outputs": [
    {
     "data": {
      "text/html": [
       "<div>\n",
       "<style scoped>\n",
       "    .dataframe tbody tr th:only-of-type {\n",
       "        vertical-align: middle;\n",
       "    }\n",
       "\n",
       "    .dataframe tbody tr th {\n",
       "        vertical-align: top;\n",
       "    }\n",
       "\n",
       "    .dataframe thead th {\n",
       "        text-align: right;\n",
       "    }\n",
       "</style>\n",
       "<table border=\"1\" class=\"dataframe\">\n",
       "  <thead>\n",
       "    <tr style=\"text-align: right;\">\n",
       "      <th></th>\n",
       "      <th>Show Number</th>\n",
       "      <th>Air Date</th>\n",
       "      <th>Round</th>\n",
       "      <th>Category</th>\n",
       "      <th>Value</th>\n",
       "      <th>Question</th>\n",
       "      <th>Answer</th>\n",
       "    </tr>\n",
       "  </thead>\n",
       "  <tbody>\n",
       "    <tr>\n",
       "      <th>0</th>\n",
       "      <td>4680</td>\n",
       "      <td>2004-12-31</td>\n",
       "      <td>Jeopardy!</td>\n",
       "      <td>HISTORY</td>\n",
       "      <td>$200</td>\n",
       "      <td>For the last 8 years of his life, Galileo was ...</td>\n",
       "      <td>Copernicus</td>\n",
       "    </tr>\n",
       "    <tr>\n",
       "      <th>1</th>\n",
       "      <td>4680</td>\n",
       "      <td>2004-12-31</td>\n",
       "      <td>Jeopardy!</td>\n",
       "      <td>ESPN's TOP 10 ALL-TIME ATHLETES</td>\n",
       "      <td>$200</td>\n",
       "      <td>No. 2: 1912 Olympian; football star at Carlisl...</td>\n",
       "      <td>Jim Thorpe</td>\n",
       "    </tr>\n",
       "    <tr>\n",
       "      <th>2</th>\n",
       "      <td>4680</td>\n",
       "      <td>2004-12-31</td>\n",
       "      <td>Jeopardy!</td>\n",
       "      <td>EVERYBODY TALKS ABOUT IT...</td>\n",
       "      <td>$200</td>\n",
       "      <td>The city of Yuma in this state has a record av...</td>\n",
       "      <td>Arizona</td>\n",
       "    </tr>\n",
       "    <tr>\n",
       "      <th>3</th>\n",
       "      <td>4680</td>\n",
       "      <td>2004-12-31</td>\n",
       "      <td>Jeopardy!</td>\n",
       "      <td>THE COMPANY LINE</td>\n",
       "      <td>$200</td>\n",
       "      <td>In 1963, live on \"The Art Linkletter Show\", th...</td>\n",
       "      <td>McDonald's</td>\n",
       "    </tr>\n",
       "    <tr>\n",
       "      <th>4</th>\n",
       "      <td>4680</td>\n",
       "      <td>2004-12-31</td>\n",
       "      <td>Jeopardy!</td>\n",
       "      <td>EPITAPHS &amp; TRIBUTES</td>\n",
       "      <td>$200</td>\n",
       "      <td>Signer of the Dec. of Indep., framer of the Co...</td>\n",
       "      <td>John Adams</td>\n",
       "    </tr>\n",
       "  </tbody>\n",
       "</table>\n",
       "</div>"
      ],
      "text/plain": [
       "   Show Number    Air Date      Round                         Category  Value  \\\n",
       "0         4680  2004-12-31  Jeopardy!                          HISTORY   $200   \n",
       "1         4680  2004-12-31  Jeopardy!  ESPN's TOP 10 ALL-TIME ATHLETES   $200   \n",
       "2         4680  2004-12-31  Jeopardy!      EVERYBODY TALKS ABOUT IT...   $200   \n",
       "3         4680  2004-12-31  Jeopardy!                 THE COMPANY LINE   $200   \n",
       "4         4680  2004-12-31  Jeopardy!              EPITAPHS & TRIBUTES   $200   \n",
       "\n",
       "                                            Question      Answer  \n",
       "0  For the last 8 years of his life, Galileo was ...  Copernicus  \n",
       "1  No. 2: 1912 Olympian; football star at Carlisl...  Jim Thorpe  \n",
       "2  The city of Yuma in this state has a record av...     Arizona  \n",
       "3  In 1963, live on \"The Art Linkletter Show\", th...  McDonald's  \n",
       "4  Signer of the Dec. of Indep., framer of the Co...  John Adams  "
      ]
     },
     "execution_count": 2,
     "metadata": {},
     "output_type": "execute_result"
    }
   ],
   "source": [
    "jeopardy = pd.read_csv('JEOPARDY_CSV.csv')\n",
    "jeopardy.head()"
   ]
  },
  {
   "cell_type": "markdown",
   "id": "96313400-704a-4727-9e5f-89865c697c28",
   "metadata": {},
   "source": [
    "Each row in the dataset represents a single question on a single episode of Jeopardy. Here are explanations of each column:\n",
    "\n",
    "**Show Number** - the Jeopardy episode number\n",
    "**Air Date** - the date the episode aired\n",
    "**Round** - the round of Jeopardy\n",
    "**Category** - the category of the question\n",
    "**Value** - the number of dollars the correct answer is worth\n",
    "**Question** - the text of the question\n",
    "**Answer** - the text of the answer"
   ]
  },
  {
   "cell_type": "code",
   "execution_count": 3,
   "id": "5b6473ec-e88b-495b-8b2c-4f160de08a84",
   "metadata": {},
   "outputs": [
    {
     "data": {
      "text/plain": [
       "Index(['Show Number', ' Air Date', ' Round', ' Category', ' Value',\n",
       "       ' Question', ' Answer'],\n",
       "      dtype='object')"
      ]
     },
     "execution_count": 3,
     "metadata": {},
     "output_type": "execute_result"
    }
   ],
   "source": [
    "jeopardy.columns"
   ]
  },
  {
   "cell_type": "markdown",
   "id": "002b7f5c-984b-40ce-af91-bd61dd89c6a5",
   "metadata": {},
   "source": [
    "Some of the column names have spaces in front, have to remove the spaces:\n"
   ]
  },
  {
   "cell_type": "code",
   "execution_count": 4,
   "id": "cca6f0d7-a248-4fe8-a2c0-4c62ea8f8631",
   "metadata": {},
   "outputs": [],
   "source": [
    "jeopardy.columns = ['Show Number', 'Air Date', 'Round', 'Category', 'Value',\n",
    "       'Question', 'Answer']"
   ]
  },
  {
   "cell_type": "code",
   "execution_count": 5,
   "id": "3536c425-4ded-482a-8a26-2f04bd88b1c3",
   "metadata": {},
   "outputs": [],
   "source": [
    "#writing e function to clean the texts : make them lower case, remove punctuations, remove extra spaces\n",
    "def Normalize_text(string):\n",
    "    string = str(string)\n",
    "    string = string.lower()\n",
    "    string = re.sub(r\"[^A-Za-z0-9\\s]\", \"\", string)\n",
    "    string = re.sub(r\"\\s+\", \" \", string)\n",
    "    return string\n",
    "\n"
   ]
  },
  {
   "cell_type": "code",
   "execution_count": 6,
   "id": "34c468de-3f3f-46f3-942c-7dc66c2f83d8",
   "metadata": {},
   "outputs": [
    {
     "data": {
      "text/plain": [
       "0         for the last 8 years of his life galileo was u...\n",
       "1         no 2 1912 olympian football star at carlisle i...\n",
       "2         the city of yuma in this state has a record av...\n",
       "3         in 1963 live on the art linkletter show this c...\n",
       "4         signer of the dec of indep framer of the const...\n",
       "                                ...                        \n",
       "216925    this puccini opera turns on the solution to 3 ...\n",
       "216926    in north america this term is properly applied...\n",
       "216927    in penny lane where this hellraiser grew up th...\n",
       "216928    from ft sill okla he made the plea arizona is ...\n",
       "216929    a silent movie title includes the last name of...\n",
       "Name: clean_question, Length: 216930, dtype: object"
      ]
     },
     "execution_count": 6,
     "metadata": {},
     "output_type": "execute_result"
    }
   ],
   "source": [
    "jeopardy['clean_question'] = jeopardy['Question'].apply(Normalize_text)\n",
    "jeopardy['clean_question']"
   ]
  },
  {
   "cell_type": "code",
   "execution_count": 7,
   "id": "6b272915-c17b-46a1-8171-36eea3203834",
   "metadata": {},
   "outputs": [
    {
     "data": {
      "text/plain": [
       "0                             copernicus\n",
       "1                             jim thorpe\n",
       "2                                arizona\n",
       "3                              mcdonalds\n",
       "4                             john adams\n",
       "                       ...              \n",
       "216925                          turandot\n",
       "216926                        a titmouse\n",
       "216927                      clive barker\n",
       "216928                          geronimo\n",
       "216929    grigori alexandrovich potemkin\n",
       "Name: clean_answer, Length: 216930, dtype: object"
      ]
     },
     "execution_count": 7,
     "metadata": {},
     "output_type": "execute_result"
    }
   ],
   "source": [
    "jeopardy['clean_answer'] = jeopardy['Answer'].apply(Normalize_text)\n",
    "jeopardy['clean_answer']"
   ]
  },
  {
   "cell_type": "code",
   "execution_count": 8,
   "id": "54bf9ae6-b524-4204-a538-db5fd8193cc7",
   "metadata": {},
   "outputs": [],
   "source": [
    "#writing a function to clean the value column and turn it to int:\n",
    "def Normalize_value(value):\n",
    "    value = str(value)\n",
    "    # Remove all non-digit characters (keeps only numbers)\n",
    "    value = re.sub(r\"[^\\d]\", \"\", str(value))  # `str(value)` ensures it works even if input is not a string\n",
    "    \n",
    "    try:\n",
    "        return int(value) if value else 0  # Return 0 if empty string after cleaning\n",
    "    except ValueError:\n",
    "        return 0"
   ]
  },
  {
   "cell_type": "code",
   "execution_count": 9,
   "id": "e7c76a82-b73b-423e-800a-1b64a16b3800",
   "metadata": {},
   "outputs": [
    {
     "data": {
      "text/plain": [
       "0          200\n",
       "1          200\n",
       "2          200\n",
       "3          200\n",
       "4          200\n",
       "          ... \n",
       "216925    2000\n",
       "216926    2000\n",
       "216927    2000\n",
       "216928    2000\n",
       "216929       0\n",
       "Name: clean_value, Length: 216930, dtype: int64"
      ]
     },
     "execution_count": 9,
     "metadata": {},
     "output_type": "execute_result"
    }
   ],
   "source": [
    "jeopardy['clean_value'] = jeopardy['Value'].apply(Normalize_value)\n",
    "jeopardy['clean_value']"
   ]
  },
  {
   "cell_type": "code",
   "execution_count": 10,
   "id": "bd02e624-438c-43dc-ba6f-51bb0707914d",
   "metadata": {},
   "outputs": [],
   "source": [
    "jeopardy['Air Date'] = pd.to_datetime(jeopardy['Air Date'])"
   ]
  },
  {
   "cell_type": "code",
   "execution_count": 11,
   "id": "b0d41cc5-9bc4-4440-8bd4-6811e917e21d",
   "metadata": {},
   "outputs": [
    {
     "data": {
      "text/html": [
       "<div>\n",
       "<style scoped>\n",
       "    .dataframe tbody tr th:only-of-type {\n",
       "        vertical-align: middle;\n",
       "    }\n",
       "\n",
       "    .dataframe tbody tr th {\n",
       "        vertical-align: top;\n",
       "    }\n",
       "\n",
       "    .dataframe thead th {\n",
       "        text-align: right;\n",
       "    }\n",
       "</style>\n",
       "<table border=\"1\" class=\"dataframe\">\n",
       "  <thead>\n",
       "    <tr style=\"text-align: right;\">\n",
       "      <th></th>\n",
       "      <th>Show Number</th>\n",
       "      <th>Air Date</th>\n",
       "      <th>Round</th>\n",
       "      <th>Category</th>\n",
       "      <th>Value</th>\n",
       "      <th>Question</th>\n",
       "      <th>Answer</th>\n",
       "      <th>clean_question</th>\n",
       "      <th>clean_answer</th>\n",
       "      <th>clean_value</th>\n",
       "    </tr>\n",
       "  </thead>\n",
       "  <tbody>\n",
       "    <tr>\n",
       "      <th>0</th>\n",
       "      <td>4680</td>\n",
       "      <td>2004-12-31</td>\n",
       "      <td>Jeopardy!</td>\n",
       "      <td>HISTORY</td>\n",
       "      <td>$200</td>\n",
       "      <td>For the last 8 years of his life, Galileo was ...</td>\n",
       "      <td>Copernicus</td>\n",
       "      <td>for the last 8 years of his life galileo was u...</td>\n",
       "      <td>copernicus</td>\n",
       "      <td>200</td>\n",
       "    </tr>\n",
       "    <tr>\n",
       "      <th>1</th>\n",
       "      <td>4680</td>\n",
       "      <td>2004-12-31</td>\n",
       "      <td>Jeopardy!</td>\n",
       "      <td>ESPN's TOP 10 ALL-TIME ATHLETES</td>\n",
       "      <td>$200</td>\n",
       "      <td>No. 2: 1912 Olympian; football star at Carlisl...</td>\n",
       "      <td>Jim Thorpe</td>\n",
       "      <td>no 2 1912 olympian football star at carlisle i...</td>\n",
       "      <td>jim thorpe</td>\n",
       "      <td>200</td>\n",
       "    </tr>\n",
       "    <tr>\n",
       "      <th>2</th>\n",
       "      <td>4680</td>\n",
       "      <td>2004-12-31</td>\n",
       "      <td>Jeopardy!</td>\n",
       "      <td>EVERYBODY TALKS ABOUT IT...</td>\n",
       "      <td>$200</td>\n",
       "      <td>The city of Yuma in this state has a record av...</td>\n",
       "      <td>Arizona</td>\n",
       "      <td>the city of yuma in this state has a record av...</td>\n",
       "      <td>arizona</td>\n",
       "      <td>200</td>\n",
       "    </tr>\n",
       "    <tr>\n",
       "      <th>3</th>\n",
       "      <td>4680</td>\n",
       "      <td>2004-12-31</td>\n",
       "      <td>Jeopardy!</td>\n",
       "      <td>THE COMPANY LINE</td>\n",
       "      <td>$200</td>\n",
       "      <td>In 1963, live on \"The Art Linkletter Show\", th...</td>\n",
       "      <td>McDonald's</td>\n",
       "      <td>in 1963 live on the art linkletter show this c...</td>\n",
       "      <td>mcdonalds</td>\n",
       "      <td>200</td>\n",
       "    </tr>\n",
       "    <tr>\n",
       "      <th>4</th>\n",
       "      <td>4680</td>\n",
       "      <td>2004-12-31</td>\n",
       "      <td>Jeopardy!</td>\n",
       "      <td>EPITAPHS &amp; TRIBUTES</td>\n",
       "      <td>$200</td>\n",
       "      <td>Signer of the Dec. of Indep., framer of the Co...</td>\n",
       "      <td>John Adams</td>\n",
       "      <td>signer of the dec of indep framer of the const...</td>\n",
       "      <td>john adams</td>\n",
       "      <td>200</td>\n",
       "    </tr>\n",
       "    <tr>\n",
       "      <th>5</th>\n",
       "      <td>4680</td>\n",
       "      <td>2004-12-31</td>\n",
       "      <td>Jeopardy!</td>\n",
       "      <td>3-LETTER WORDS</td>\n",
       "      <td>$200</td>\n",
       "      <td>In the title of an Aesop fable, this insect sh...</td>\n",
       "      <td>the ant</td>\n",
       "      <td>in the title of an aesop fable this insect sha...</td>\n",
       "      <td>the ant</td>\n",
       "      <td>200</td>\n",
       "    </tr>\n",
       "    <tr>\n",
       "      <th>6</th>\n",
       "      <td>4680</td>\n",
       "      <td>2004-12-31</td>\n",
       "      <td>Jeopardy!</td>\n",
       "      <td>HISTORY</td>\n",
       "      <td>$400</td>\n",
       "      <td>Built in 312 B.C. to link Rome &amp; the South of ...</td>\n",
       "      <td>the Appian Way</td>\n",
       "      <td>built in 312 bc to link rome the south of ital...</td>\n",
       "      <td>the appian way</td>\n",
       "      <td>400</td>\n",
       "    </tr>\n",
       "    <tr>\n",
       "      <th>7</th>\n",
       "      <td>4680</td>\n",
       "      <td>2004-12-31</td>\n",
       "      <td>Jeopardy!</td>\n",
       "      <td>ESPN's TOP 10 ALL-TIME ATHLETES</td>\n",
       "      <td>$400</td>\n",
       "      <td>No. 8: 30 steals for the Birmingham Barons; 2,...</td>\n",
       "      <td>Michael Jordan</td>\n",
       "      <td>no 8 30 steals for the birmingham barons 2306 ...</td>\n",
       "      <td>michael jordan</td>\n",
       "      <td>400</td>\n",
       "    </tr>\n",
       "    <tr>\n",
       "      <th>8</th>\n",
       "      <td>4680</td>\n",
       "      <td>2004-12-31</td>\n",
       "      <td>Jeopardy!</td>\n",
       "      <td>EVERYBODY TALKS ABOUT IT...</td>\n",
       "      <td>$400</td>\n",
       "      <td>In the winter of 1971-72, a record 1,122 inche...</td>\n",
       "      <td>Washington</td>\n",
       "      <td>in the winter of 197172 a record 1122 inches o...</td>\n",
       "      <td>washington</td>\n",
       "      <td>400</td>\n",
       "    </tr>\n",
       "    <tr>\n",
       "      <th>9</th>\n",
       "      <td>4680</td>\n",
       "      <td>2004-12-31</td>\n",
       "      <td>Jeopardy!</td>\n",
       "      <td>THE COMPANY LINE</td>\n",
       "      <td>$400</td>\n",
       "      <td>This housewares store was named for the packag...</td>\n",
       "      <td>Crate &amp; Barrel</td>\n",
       "      <td>this housewares store was named for the packag...</td>\n",
       "      <td>crate barrel</td>\n",
       "      <td>400</td>\n",
       "    </tr>\n",
       "  </tbody>\n",
       "</table>\n",
       "</div>"
      ],
      "text/plain": [
       "   Show Number   Air Date      Round                         Category Value  \\\n",
       "0         4680 2004-12-31  Jeopardy!                          HISTORY  $200   \n",
       "1         4680 2004-12-31  Jeopardy!  ESPN's TOP 10 ALL-TIME ATHLETES  $200   \n",
       "2         4680 2004-12-31  Jeopardy!      EVERYBODY TALKS ABOUT IT...  $200   \n",
       "3         4680 2004-12-31  Jeopardy!                 THE COMPANY LINE  $200   \n",
       "4         4680 2004-12-31  Jeopardy!              EPITAPHS & TRIBUTES  $200   \n",
       "5         4680 2004-12-31  Jeopardy!                   3-LETTER WORDS  $200   \n",
       "6         4680 2004-12-31  Jeopardy!                          HISTORY  $400   \n",
       "7         4680 2004-12-31  Jeopardy!  ESPN's TOP 10 ALL-TIME ATHLETES  $400   \n",
       "8         4680 2004-12-31  Jeopardy!      EVERYBODY TALKS ABOUT IT...  $400   \n",
       "9         4680 2004-12-31  Jeopardy!                 THE COMPANY LINE  $400   \n",
       "\n",
       "                                            Question          Answer  \\\n",
       "0  For the last 8 years of his life, Galileo was ...      Copernicus   \n",
       "1  No. 2: 1912 Olympian; football star at Carlisl...      Jim Thorpe   \n",
       "2  The city of Yuma in this state has a record av...         Arizona   \n",
       "3  In 1963, live on \"The Art Linkletter Show\", th...      McDonald's   \n",
       "4  Signer of the Dec. of Indep., framer of the Co...      John Adams   \n",
       "5  In the title of an Aesop fable, this insect sh...         the ant   \n",
       "6  Built in 312 B.C. to link Rome & the South of ...  the Appian Way   \n",
       "7  No. 8: 30 steals for the Birmingham Barons; 2,...  Michael Jordan   \n",
       "8  In the winter of 1971-72, a record 1,122 inche...      Washington   \n",
       "9  This housewares store was named for the packag...  Crate & Barrel   \n",
       "\n",
       "                                      clean_question    clean_answer  \\\n",
       "0  for the last 8 years of his life galileo was u...      copernicus   \n",
       "1  no 2 1912 olympian football star at carlisle i...      jim thorpe   \n",
       "2  the city of yuma in this state has a record av...         arizona   \n",
       "3  in 1963 live on the art linkletter show this c...       mcdonalds   \n",
       "4  signer of the dec of indep framer of the const...      john adams   \n",
       "5  in the title of an aesop fable this insect sha...         the ant   \n",
       "6  built in 312 bc to link rome the south of ital...  the appian way   \n",
       "7  no 8 30 steals for the birmingham barons 2306 ...  michael jordan   \n",
       "8  in the winter of 197172 a record 1122 inches o...      washington   \n",
       "9  this housewares store was named for the packag...    crate barrel   \n",
       "\n",
       "   clean_value  \n",
       "0          200  \n",
       "1          200  \n",
       "2          200  \n",
       "3          200  \n",
       "4          200  \n",
       "5          200  \n",
       "6          400  \n",
       "7          400  \n",
       "8          400  \n",
       "9          400  "
      ]
     },
     "execution_count": 11,
     "metadata": {},
     "output_type": "execute_result"
    }
   ],
   "source": [
    "jeopardy.head(10)"
   ]
  },
  {
   "cell_type": "code",
   "execution_count": 12,
   "id": "be24b541-ebe7-49d6-8dcb-a9e689dcfd48",
   "metadata": {},
   "outputs": [
    {
     "data": {
      "text/plain": [
       "Show Number                int64\n",
       "Air Date          datetime64[ns]\n",
       "Round                     object\n",
       "Category                  object\n",
       "Value                     object\n",
       "Question                  object\n",
       "Answer                    object\n",
       "clean_question            object\n",
       "clean_answer              object\n",
       "clean_value                int64\n",
       "dtype: object"
      ]
     },
     "execution_count": 12,
     "metadata": {},
     "output_type": "execute_result"
    }
   ],
   "source": [
    "jeopardy.dtypes"
   ]
  },
  {
   "cell_type": "markdown",
   "id": "7c1df280-e551-4ec9-af8e-4c5eee05349a",
   "metadata": {},
   "source": [
    "#  Answers in Questions\n",
    "In order to figure out whether to study past questions, study general knowledge, or not study it all, it would be helpful to figure out two things:\n",
    "\n",
    "- How often the answer can be used for a question.\n",
    "- How often questions are repeated"
   ]
  },
  {
   "cell_type": "code",
   "execution_count": 21,
   "id": "2bbc4a1c-9156-421c-a777-f7c3269b0179",
   "metadata": {},
   "outputs": [],
   "source": [
    "def matches_count(row) :\n",
    "    splited_answer = row['clean_answer'].split()\n",
    "    splited_question = row['clean_question'].split()\n",
    "    if 'the' in splited_answer:\n",
    "        splited_answer.remove('the')\n",
    "    if len(splited_answer)== 0 :\n",
    "        return 0\n",
    "    match_count = 0\n",
    "    for word in splited_answer:\n",
    "        if word in splited_question:\n",
    "            match_count+=1\n",
    "    result = match_count/ len(splited_answer)\n",
    "    return result\n",
    "\n"
   ]
  },
  {
   "cell_type": "code",
   "execution_count": 25,
   "id": "4e2a7938-8187-4118-a956-d915535b86de",
   "metadata": {},
   "outputs": [],
   "source": [
    "jeopardy['answers_in_question'] = jeopardy.apply(matches_count, axis=1)"
   ]
  },
  {
   "cell_type": "code",
   "execution_count": 23,
   "id": "66de4795-1faf-461a-8a4b-34f08d69a0e4",
   "metadata": {},
   "outputs": [
    {
     "data": {
      "text/plain": [
       "np.float64(0.05792070323661065)"
      ]
     },
     "execution_count": 23,
     "metadata": {},
     "output_type": "execute_result"
    }
   ],
   "source": [
    "jeopardy['answers_in_question'].mean()"
   ]
  },
  {
   "cell_type": "markdown",
   "id": "32c87afe-9c61-408d-abe9-58f76b23d8f7",
   "metadata": {},
   "source": [
    "## Analysis of Answer-Question Overlap:\n",
    "Our findings reveal that, on average, only 5.94% of an answer's content directly overlaps with its corresponding question. This minimal overlap suggests that:\n",
    "\n",
    "**Low Predictive Power:** Hearing or reading a Jeopardy question provides very little direct clue about the answer's wording.\n",
    "\n",
    "**Need for Better Strategies:** Since direct term matching is ineffective, we must explore alternative approaches to reliably predict answers."
   ]
  },
  {
   "cell_type": "markdown",
   "id": "e2438a6b-5e79-48b4-8dfd-e2db55f7b898",
   "metadata": {},
   "source": [
    "# Recycled Questions\n",
    "\n"
   ]
  },
  {
   "cell_type": "code",
   "execution_count": 32,
   "id": "0b3604cb-0db0-417d-be58-723e5c0de3bb",
   "metadata": {},
   "outputs": [],
   "source": [
    "question_overlap=[]\n",
    "terms_used= set()\n",
    "\n",
    "jeopardy = jeopardy.sort_values('Air Date', ascending=True)\n",
    "\n",
    "for i,row in jeopardy.iterrows():\n",
    "    splited_question = row['clean_question'].split(\" \")\n",
    "    splited_question = [word for word in splited_question if len(word) > 5] \n",
    "\n",
    "    match_count = 0\n",
    "    for words in splited_question:\n",
    "        if words in terms_used:\n",
    "            match_count+=1\n",
    "    for words in splited_question:\n",
    "        terms_used.add(words)\n",
    "\n",
    "    if len(splited_question) >0:\n",
    "        match_count /= len(splited_question)\n",
    "    question_overlap.append(match_count)\n"
   ]
  },
  {
   "cell_type": "code",
   "execution_count": 33,
   "id": "df368931-c81c-437a-929d-2e617e7d1bfd",
   "metadata": {},
   "outputs": [
    {
     "data": {
      "text/plain": [
       "np.float64(0.8722248751149544)"
      ]
     },
     "execution_count": 33,
     "metadata": {},
     "output_type": "execute_result"
    }
   ],
   "source": [
    "jeopardy['question_overlap'] = question_overlap\n",
    "jeopardy['question_overlap'].mean()"
   ]
  },
  {
   "cell_type": "markdown",
   "id": "1bf07a80-b9e6-4ee9-b47a-3ec2d7f83b14",
   "metadata": {},
   "source": [
    "**Interpreting 87.22% Question Overlap:**\n",
    "    \n",
    "This indicates that 87.22% of long words (6+ letters) in each Jeopardy question appeared in prior questions—not full repeats."
   ]
  },
  {
   "cell_type": "markdown",
   "id": "f61cb8bd-ff35-4ec1-b64f-e00877b3a8e3",
   "metadata": {},
   "source": [
    "# Low Value vs High Value Questions \n"
   ]
  },
  {
   "cell_type": "code",
   "execution_count": 35,
   "id": "dcd13dc0-b0cc-4add-b214-6b8b2ae962a1",
   "metadata": {},
   "outputs": [],
   "source": [
    "def value_determine(row):\n",
    "    value = 0\n",
    "    if row['clean_value'] >=800:\n",
    "        value = 1\n",
    "    return value\n",
    "\n",
    "jeopardy['high_value'] = jeopardy.apply(value_determine, axis=1)\n"
   ]
  },
  {
   "cell_type": "code",
   "execution_count": 38,
   "id": "799ee169-ba1c-4cf5-a82a-4d1d2b30247b",
   "metadata": {},
   "outputs": [],
   "source": [
    "def usage_count(term):\n",
    "    high_value = 0\n",
    "    low_value = 0\n",
    "    for i,row in jeopardy.iterrows():\n",
    "        if term in row['clean_question'].split(' ') :\n",
    "            if row['high_value'] == 1 :\n",
    "                high_value += 1\n",
    "            else:\n",
    "                low_value +=1\n",
    "    return high_value, low_value\n",
    "    "
   ]
  },
  {
   "cell_type": "code",
   "execution_count": 41,
   "id": "9e3743da-1869-42a2-ae75-06706676a9a3",
   "metadata": {},
   "outputs": [
    {
     "data": {
      "text/plain": [
       "[(0, 1),\n",
       " (1, 0),\n",
       " (1, 1),\n",
       " (0, 1),\n",
       " (1, 2),\n",
       " (0, 1),\n",
       " (1, 0),\n",
       " (1, 0),\n",
       " (1, 0),\n",
       " (20, 15)]"
      ]
     },
     "execution_count": 41,
     "metadata": {},
     "output_type": "execute_result"
    }
   ],
   "source": [
    "terms_used_list = list(terms_used)\n",
    "comparison_terms = [choice(terms_used_list) for _ in range(10)]\n",
    "observed_expected = []\n",
    "\n",
    "for term in comparison_terms :\n",
    "    observed_expected.append(usage_count(term))\n",
    "\n",
    "observed_expected"
   ]
  },
  {
   "cell_type": "code",
   "execution_count": 48,
   "id": "de63c1d8-8bc3-4ece-82d5-6001e26f7886",
   "metadata": {},
   "outputs": [],
   "source": [
    "high_value_count = jeopardy[jeopardy['high_value']==1].shape[0]\n",
    "low_value_count = jeopardy[jeopardy['high_value']==0].shape[0]\n",
    "\n"
   ]
  },
  {
   "cell_type": "code",
   "execution_count": 49,
   "id": "5c518746-b7f1-46a8-9bae-b3e3a953b170",
   "metadata": {},
   "outputs": [
    {
     "data": {
      "text/plain": [
       "[Power_divergenceResult(statistic=np.float64(0.7544157608695651), pvalue=np.float64(0.38508176583769604)),\n",
       " Power_divergenceResult(statistic=np.float64(1.325529040972535), pvalue=np.float64(0.24960216618620146)),\n",
       " Power_divergenceResult(statistic=np.float64(0.039972400921050075), pvalue=np.float64(0.8415345528964892)),\n",
       " Power_divergenceResult(statistic=np.float64(0.7544157608695651), pvalue=np.float64(0.38508176583769604)),\n",
       " Power_divergenceResult(statistic=np.float64(0.11439736148359864), pvalue=np.float64(0.7351922887573981)),\n",
       " Power_divergenceResult(statistic=np.float64(0.7544157608695651), pvalue=np.float64(0.38508176583769604)),\n",
       " Power_divergenceResult(statistic=np.float64(1.325529040972535), pvalue=np.float64(0.24960216618620146)),\n",
       " Power_divergenceResult(statistic=np.float64(1.325529040972535), pvalue=np.float64(0.24960216618620146)),\n",
       " Power_divergenceResult(statistic=np.float64(1.325529040972535), pvalue=np.float64(0.24960216618620146)),\n",
       " Power_divergenceResult(statistic=np.float64(2.8558617881333177), pvalue=np.float64(0.09104143891305319))]"
      ]
     },
     "execution_count": 49,
     "metadata": {},
     "output_type": "execute_result"
    }
   ],
   "source": [
    "chi_squared = []\n",
    "for obs in observed_expected:\n",
    "    total = sum(obs)\n",
    "    total_prop = total/ jeopardy.shape[0]\n",
    "    exp_high_value = total_prop * high_value_count\n",
    "    exp_low_value = total_prop * low_value_count\n",
    "\n",
    "    observed = np.array([obs[0], obs[1]])\n",
    "    expexted = np.array([exp_high_value, exp_low_value])\n",
    "    chi_squared.append(chisquare(observed, expexted))\n",
    "\n",
    "\n",
    "chi_squared\n"
   ]
  },
  {
   "cell_type": "markdown",
   "id": "9ad5c46a-15d2-42fb-b029-e9df2ef36e35",
   "metadata": {},
   "source": [
    "# Analysis of Chi-Squared Test Results\n",
    "**1. Statistical Significance (p-values)**\n",
    "All calculated p-values are above 0.05 (ranging from 0.09 to 0.84), indicating:\n",
    "\n",
    "- No statistically significant difference in term usage between high-value and low-value questions.\n",
    "\n",
    "- Term distribution appears independent of question value.\n",
    "\n",
    "**2. Test Statistics**\n",
    "- The chi-squared statistics (ranging from 0.04 to 2.86) are relatively small, confirming observed differences are likely due to random variation.\n",
    "\n",
    "**3. Key Observations:**\n",
    "- The highest statistic (2.86, p=0.09) approaches but doesn't reach significance.\n",
    "\n",
    "- All other terms show even weaker associations (p-values 0.25-0.84).\n",
    "\n",
    "**4. Limitations:**\n",
    "- Low frequency issue: Most terms occurred <5 times per group, reducing test validity.\n",
    "\n",
    "- General terms: Many analyzed terms may be common across all questions"
   ]
  },
  {
   "cell_type": "code",
   "execution_count": null,
   "id": "8b6ff0b5-860a-4523-bfa2-6330a539a3d7",
   "metadata": {},
   "outputs": [],
   "source": []
  }
 ],
 "metadata": {
  "kernelspec": {
   "display_name": "Python 3 (ipykernel)",
   "language": "python",
   "name": "python3"
  },
  "language_info": {
   "codemirror_mode": {
    "name": "ipython",
    "version": 3
   },
   "file_extension": ".py",
   "mimetype": "text/x-python",
   "name": "python",
   "nbconvert_exporter": "python",
   "pygments_lexer": "ipython3",
   "version": "3.12.3"
  }
 },
 "nbformat": 4,
 "nbformat_minor": 5
}
